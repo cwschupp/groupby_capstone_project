{
 "cells": [
  {
   "cell_type": "code",
   "execution_count": 1,
   "metadata": {
    "collapsed": true
   },
   "outputs": [],
   "source": [
    "# Import required modules\n",
    "import pandas as pd\n",
    "from zipfile import ZipFile"
   ]
  },
  {
   "cell_type": "code",
   "execution_count": 1,
   "outputs": [
    {
     "ename": "NameError",
     "evalue": "name 'ZipFile' is not defined",
     "output_type": "error",
     "traceback": [
      "\u001B[0;31m---------------------------------------------------------------------------\u001B[0m",
      "\u001B[0;31mNameError\u001B[0m                                 Traceback (most recent call last)",
      "Input \u001B[0;32mIn [1]\u001B[0m, in \u001B[0;36m<module>\u001B[0;34m\u001B[0m\n\u001B[1;32m      1\u001B[0m \u001B[38;5;66;03m# Load data into pandas df\u001B[39;00m\n\u001B[1;32m      2\u001B[0m data_file \u001B[38;5;241m=\u001B[39m \u001B[38;5;124m\"\u001B[39m\u001B[38;5;124m../data/cosmetic_shopping_archive.zip\u001B[39m\u001B[38;5;124m\"\u001B[39m\n\u001B[0;32m----> 3\u001B[0m zipped_file \u001B[38;5;241m=\u001B[39m \u001B[43mZipFile\u001B[49m(data_file)\n\u001B[1;32m      5\u001B[0m csv_files \u001B[38;5;241m=\u001B[39m zipped_file\u001B[38;5;241m.\u001B[39mnamelist()\n\u001B[1;32m      6\u001B[0m \u001B[38;5;28mprint\u001B[39m(\u001B[38;5;124mf\u001B[39m\u001B[38;5;124m\"\u001B[39m\u001B[38;5;124mFile Count: \u001B[39m\u001B[38;5;132;01m{\u001B[39;00m\u001B[38;5;28mlen\u001B[39m(csv_files)\u001B[38;5;132;01m}\u001B[39;00m\u001B[38;5;124m\"\u001B[39m)\n",
      "\u001B[0;31mNameError\u001B[0m: name 'ZipFile' is not defined"
     ]
    }
   ],
   "source": [
    "# Load data into pandas df\n",
    "data_file = \"../data/cosmetic_shopping_archive.zip\"\n",
    "zipped_file = ZipFile(data_file)\n",
    "\n",
    "csv_files = zipped_file.namelist()\n",
    "print(f\"File Count: {len(csv_files)}\")\n",
    "print(f\"Files: {csv_files}\")\n",
    "# ZipFile('some.zip').open(i)\n",
    "full_df = pd.read_csv(zipped_file.open(csv_files[0]))\n",
    "full_df[\"source_file_name\"] = csv_files[0]\n",
    "csv_files.pop(0)\n",
    "for csv_file in csv_files:\n",
    "    df = pd.read_csv(zipped_file.open(csv_file))\n",
    "    df[\"source_file_name\"] = csv_file\n",
    "    full_df = pd.concat([full_df, df], ignore_index=True)\n",
    "\n",
    "# Full dataset info\n",
    "# Temp just december\n",
    "full_df.info()\n",
    "full_df.describe()"
   ],
   "metadata": {
    "collapsed": false,
    "pycharm": {
     "name": "#%%\n"
    }
   }
  },
  {
   "cell_type": "code",
   "execution_count": 9,
   "outputs": [
    {
     "name": "stdout",
     "output_type": "stream",
     "text": [
      "CPU times: user 239 ms, sys: 600 ms, total: 839 ms\n",
      "Wall time: 1.07 s\n"
     ]
    }
   ],
   "source": [
    "%%time\n",
    "full_df[\"event_time\"] = pd.to_datetime(full_df['event_time'])\n",
    "# Visualize the data\n",
    "# numeric_columns = full_df.select_dtypes(include=np.float_).columns.tolist()\n",
    "# def add_features(df):\n",
    "#     clean_df = df.copy()\n",
    "#     clean_df = clean_df.drop_duplicates()\n",
    "#     clean_df[\"event_time\"] = pd.to_datetime(clean_df['event_time'])\n",
    "#\n",
    "#     return clean_df\n",
    "\n",
    "\n",
    "# print(columns)\n",
    "# category_columns = [\"event_type\", \"category_id\", \"category_code\", \"brand\"]\n",
    "# category_columns = [\"event_type\", \"category_code\", \"brand\"]\n",
    "# for column in category_columns:\n",
    "#     clean_df[column] = clean_df[column].fillna(\"\")\n",
    "#     unique_values = clean_df[column].unique()\n",
    "#     print(f\"COLUMN: {column}\")\n",
    "#     print(f\"\\tUnique Values Count: {len(unique_values)}\")\n",
    "#     print(f\"\\tData Type: {clean_df[column].dtype}\")\n",
    "#     print(f\"\\tUnique Values: {unique_values}\")\n",
    "    # if len(unique_values) < 50000:\n",
    "    #     plt.hist(full_df[column])\n",
    "    #     plt.title(f'Column Distribution: {column}')\n",
    "    #     plt.show()\n",
    "# full_df.count()\n",
    "# full_feature_df = add_features(full_df)"
   ],
   "metadata": {
    "collapsed": false,
    "pycharm": {
     "name": "#%%\n"
    }
   }
  },
  {
   "cell_type": "code",
   "execution_count": 10,
   "outputs": [
    {
     "data": {
      "text/plain": "datetime64[ns, UTC]"
     },
     "execution_count": 10,
     "metadata": {},
     "output_type": "execute_result"
    }
   ],
   "source": [
    "full_df[\"event_time\"].dtypes\n",
    "# clean_df = clean_df.drop_duplicates()\n",
    "# clean_df['session_click_order'] = clean_df.groupby(['user_id', 'user_session','event_time'])['event_time'].rank(method='first')\n",
    "\n",
    "# clean_df['session_number'] = clean_df.groupby(['user_id', 'user_session'])['event_time'].rank(method='min')\n",
    "# clean_df['session_number'] = clean_df.groupby(['user_id', 'user_session'])['event_time'].rank(method='min')"
   ],
   "metadata": {
    "collapsed": false,
    "pycharm": {
     "name": "#%%\n"
    }
   }
  },
  {
   "cell_type": "code",
   "execution_count": 23,
   "outputs": [
    {
     "data": {
      "text/plain": "                       event_time        event_type  product_id  \\\n8168691   2019-11-30 23:44:30 UTC  remove_from_cart     5882331   \n8168703   2019-11-30 23:44:52 UTC              view        5308   \n8168803   2019-11-30 23:48:23 UTC              view     5610170   \n8168812   2019-11-30 23:48:41 UTC              view     5765335   \n8168815   2019-11-30 23:48:47 UTC              cart     5765335   \n...                           ...               ...         ...   \n14938835  2020-02-19 05:38:07 UTC              view        3762   \n14938849  2020-02-19 05:38:21 UTC              view        4185   \n14940478  2020-02-19 05:57:56 UTC              cart     5812927   \n14940658  2020-02-19 05:59:47 UTC              view     5764730   \n14940785  2020-02-19 06:01:37 UTC              cart        5212   \n\n                  category_id category_code     brand  price    user_id  \\\n8168691   1752742606699234159           NaN       NaN   2.19  412120092   \n8168703   1487580010125459512           NaN       cnd  15.71  412120092   \n8168803   1487580007281722301           NaN       cnd   8.38  412120092   \n8168812   1487580007281722301           NaN       cnd  26.19  412120092   \n8168815   1487580007281722301           NaN       cnd  26.19  412120092   \n...                       ...           ...       ...    ...        ...   \n14938835  1487580005411062629           NaN       cnd  19.37  412120092   \n14938849  1487580005411062629           NaN       cnd  19.37  412120092   \n14940478  1487580005092295511           NaN  kinetics  12.06  412120092   \n14940658  2195085255117897760           NaN       cnd  19.84  412120092   \n14940785  1487580009311764506           NaN       cnd   2.78  412120092   \n\n                                  user_session source_file_name  \\\n8168691   8adff31e-2051-4894-9758-224bfa8aec18     2019-Nov.csv   \n8168703   8adff31e-2051-4894-9758-224bfa8aec18     2019-Nov.csv   \n8168803   8adff31e-2051-4894-9758-224bfa8aec18     2019-Nov.csv   \n8168812   8adff31e-2051-4894-9758-224bfa8aec18     2019-Nov.csv   \n8168815   8adff31e-2051-4894-9758-224bfa8aec18     2019-Nov.csv   \n...                                        ...              ...   \n14938835  6f9eac51-7a1d-47b7-b497-66e9d27d82b8     2020-Feb.csv   \n14938849  6f9eac51-7a1d-47b7-b497-66e9d27d82b8     2020-Feb.csv   \n14940478  6f9eac51-7a1d-47b7-b497-66e9d27d82b8     2020-Feb.csv   \n14940658  6f9eac51-7a1d-47b7-b497-66e9d27d82b8     2020-Feb.csv   \n14940785  6f9eac51-7a1d-47b7-b497-66e9d27d82b8     2020-Feb.csv   \n\n          session_click_order  session_number  \n8168691                   1.0             1.0  \n8168703                   1.0             2.0  \n8168803                   1.0             3.0  \n8168812                   1.0             4.0  \n8168815                   1.0             5.0  \n...                       ...             ...  \n14938835                  1.0             1.0  \n14938849                  1.0             2.0  \n14940478                  1.0             3.0  \n14940658                  1.0             4.0  \n14940785                  1.0             5.0  \n\n[94 rows x 12 columns]",
      "text/html": "<div>\n<style scoped>\n    .dataframe tbody tr th:only-of-type {\n        vertical-align: middle;\n    }\n\n    .dataframe tbody tr th {\n        vertical-align: top;\n    }\n\n    .dataframe thead th {\n        text-align: right;\n    }\n</style>\n<table border=\"1\" class=\"dataframe\">\n  <thead>\n    <tr style=\"text-align: right;\">\n      <th></th>\n      <th>event_time</th>\n      <th>event_type</th>\n      <th>product_id</th>\n      <th>category_id</th>\n      <th>category_code</th>\n      <th>brand</th>\n      <th>price</th>\n      <th>user_id</th>\n      <th>user_session</th>\n      <th>source_file_name</th>\n      <th>session_click_order</th>\n      <th>session_number</th>\n    </tr>\n  </thead>\n  <tbody>\n    <tr>\n      <th>8168691</th>\n      <td>2019-11-30 23:44:30 UTC</td>\n      <td>remove_from_cart</td>\n      <td>5882331</td>\n      <td>1752742606699234159</td>\n      <td>NaN</td>\n      <td>NaN</td>\n      <td>2.19</td>\n      <td>412120092</td>\n      <td>8adff31e-2051-4894-9758-224bfa8aec18</td>\n      <td>2019-Nov.csv</td>\n      <td>1.0</td>\n      <td>1.0</td>\n    </tr>\n    <tr>\n      <th>8168703</th>\n      <td>2019-11-30 23:44:52 UTC</td>\n      <td>view</td>\n      <td>5308</td>\n      <td>1487580010125459512</td>\n      <td>NaN</td>\n      <td>cnd</td>\n      <td>15.71</td>\n      <td>412120092</td>\n      <td>8adff31e-2051-4894-9758-224bfa8aec18</td>\n      <td>2019-Nov.csv</td>\n      <td>1.0</td>\n      <td>2.0</td>\n    </tr>\n    <tr>\n      <th>8168803</th>\n      <td>2019-11-30 23:48:23 UTC</td>\n      <td>view</td>\n      <td>5610170</td>\n      <td>1487580007281722301</td>\n      <td>NaN</td>\n      <td>cnd</td>\n      <td>8.38</td>\n      <td>412120092</td>\n      <td>8adff31e-2051-4894-9758-224bfa8aec18</td>\n      <td>2019-Nov.csv</td>\n      <td>1.0</td>\n      <td>3.0</td>\n    </tr>\n    <tr>\n      <th>8168812</th>\n      <td>2019-11-30 23:48:41 UTC</td>\n      <td>view</td>\n      <td>5765335</td>\n      <td>1487580007281722301</td>\n      <td>NaN</td>\n      <td>cnd</td>\n      <td>26.19</td>\n      <td>412120092</td>\n      <td>8adff31e-2051-4894-9758-224bfa8aec18</td>\n      <td>2019-Nov.csv</td>\n      <td>1.0</td>\n      <td>4.0</td>\n    </tr>\n    <tr>\n      <th>8168815</th>\n      <td>2019-11-30 23:48:47 UTC</td>\n      <td>cart</td>\n      <td>5765335</td>\n      <td>1487580007281722301</td>\n      <td>NaN</td>\n      <td>cnd</td>\n      <td>26.19</td>\n      <td>412120092</td>\n      <td>8adff31e-2051-4894-9758-224bfa8aec18</td>\n      <td>2019-Nov.csv</td>\n      <td>1.0</td>\n      <td>5.0</td>\n    </tr>\n    <tr>\n      <th>...</th>\n      <td>...</td>\n      <td>...</td>\n      <td>...</td>\n      <td>...</td>\n      <td>...</td>\n      <td>...</td>\n      <td>...</td>\n      <td>...</td>\n      <td>...</td>\n      <td>...</td>\n      <td>...</td>\n      <td>...</td>\n    </tr>\n    <tr>\n      <th>14938835</th>\n      <td>2020-02-19 05:38:07 UTC</td>\n      <td>view</td>\n      <td>3762</td>\n      <td>1487580005411062629</td>\n      <td>NaN</td>\n      <td>cnd</td>\n      <td>19.37</td>\n      <td>412120092</td>\n      <td>6f9eac51-7a1d-47b7-b497-66e9d27d82b8</td>\n      <td>2020-Feb.csv</td>\n      <td>1.0</td>\n      <td>1.0</td>\n    </tr>\n    <tr>\n      <th>14938849</th>\n      <td>2020-02-19 05:38:21 UTC</td>\n      <td>view</td>\n      <td>4185</td>\n      <td>1487580005411062629</td>\n      <td>NaN</td>\n      <td>cnd</td>\n      <td>19.37</td>\n      <td>412120092</td>\n      <td>6f9eac51-7a1d-47b7-b497-66e9d27d82b8</td>\n      <td>2020-Feb.csv</td>\n      <td>1.0</td>\n      <td>2.0</td>\n    </tr>\n    <tr>\n      <th>14940478</th>\n      <td>2020-02-19 05:57:56 UTC</td>\n      <td>cart</td>\n      <td>5812927</td>\n      <td>1487580005092295511</td>\n      <td>NaN</td>\n      <td>kinetics</td>\n      <td>12.06</td>\n      <td>412120092</td>\n      <td>6f9eac51-7a1d-47b7-b497-66e9d27d82b8</td>\n      <td>2020-Feb.csv</td>\n      <td>1.0</td>\n      <td>3.0</td>\n    </tr>\n    <tr>\n      <th>14940658</th>\n      <td>2020-02-19 05:59:47 UTC</td>\n      <td>view</td>\n      <td>5764730</td>\n      <td>2195085255117897760</td>\n      <td>NaN</td>\n      <td>cnd</td>\n      <td>19.84</td>\n      <td>412120092</td>\n      <td>6f9eac51-7a1d-47b7-b497-66e9d27d82b8</td>\n      <td>2020-Feb.csv</td>\n      <td>1.0</td>\n      <td>4.0</td>\n    </tr>\n    <tr>\n      <th>14940785</th>\n      <td>2020-02-19 06:01:37 UTC</td>\n      <td>cart</td>\n      <td>5212</td>\n      <td>1487580009311764506</td>\n      <td>NaN</td>\n      <td>cnd</td>\n      <td>2.78</td>\n      <td>412120092</td>\n      <td>6f9eac51-7a1d-47b7-b497-66e9d27d82b8</td>\n      <td>2020-Feb.csv</td>\n      <td>1.0</td>\n      <td>5.0</td>\n    </tr>\n  </tbody>\n</table>\n<p>94 rows × 12 columns</p>\n</div>"
     },
     "execution_count": 23,
     "metadata": {},
     "output_type": "execute_result"
    }
   ],
   "source": [
    "# clean_df[clean_df.user_id == 412120092].sort_values(['event_time'], ascending=[True])\n",
    "# type(clean_df.event_time[0])"
   ],
   "metadata": {
    "collapsed": false,
    "pycharm": {
     "name": "#%%\n"
    }
   }
  },
  {
   "cell_type": "code",
   "execution_count": 62,
   "outputs": [
    {
     "name": "stdout",
     "output_type": "stream",
     "text": [
      "2019-Dec.csv: 3533286\n",
      "2019-Nov.csv: 4635837\n",
      "2019-Oct.csv: 4102283\n",
      "2020-Feb.csv: 4156682\n",
      "2020-Jan.csv: 4264752\n"
     ]
    }
   ],
   "source": [
    "files = clean_df.source_file_name.unique().tolist()\n",
    "for file in files:\n",
    "    print(f\"{file}: {clean_df[clean_df.source_file_name == file].source_file_name.count()}\")"
   ],
   "metadata": {
    "collapsed": false,
    "pycharm": {
     "name": "#%%\n"
    }
   }
  },
  {
   "cell_type": "code",
   "execution_count": 66,
   "outputs": [
    {
     "ename": "TypeError",
     "evalue": "'Int64Index' object is not callable",
     "output_type": "error",
     "traceback": [
      "\u001B[0;31m---------------------------------------------------------------------------\u001B[0m",
      "\u001B[0;31mTypeError\u001B[0m                                 Traceback (most recent call last)",
      "\u001B[0;32m/var/folders/z2/c6lp99dn2qz3j1rqxgv2t3_w0000gn/T/ipykernel_28462/3517027703.py\u001B[0m in \u001B[0;36m<module>\u001B[0;34m\u001B[0m\n\u001B[0;32m----> 1\u001B[0;31m \u001B[0mclean_df\u001B[0m\u001B[0;34m.\u001B[0m\u001B[0mindex\u001B[0m\u001B[0;34m(\u001B[0m\u001B[0;36m8168692\u001B[0m\u001B[0;34m)\u001B[0m\u001B[0;34m\u001B[0m\u001B[0;34m\u001B[0m\u001B[0m\n\u001B[0m",
      "\u001B[0;31mTypeError\u001B[0m: 'Int64Index' object is not callable"
     ]
    }
   ],
   "source": [
    "clean_df.index(8168692)"
   ],
   "metadata": {
    "collapsed": false,
    "pycharm": {
     "name": "#%%\n"
    }
   }
  },
  {
   "cell_type": "code",
   "execution_count": null,
   "outputs": [],
   "source": [],
   "metadata": {
    "collapsed": false,
    "pycharm": {
     "name": "#%%\n"
    }
   }
  }
 ],
 "metadata": {
  "kernelspec": {
   "display_name": "Python 3",
   "language": "python",
   "name": "python3"
  },
  "language_info": {
   "codemirror_mode": {
    "name": "ipython",
    "version": 2
   },
   "file_extension": ".py",
   "mimetype": "text/x-python",
   "name": "python",
   "nbconvert_exporter": "python",
   "pygments_lexer": "ipython2",
   "version": "2.7.6"
  }
 },
 "nbformat": 4,
 "nbformat_minor": 0
}